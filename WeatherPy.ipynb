{
 "cells": [
  {
   "cell_type": "markdown",
   "metadata": {},
   "source": [
    "# WeatherPy\n",
    "----\n",
    "\n",
    "#### Note\n",
    "* Instructions have been included for each segment. You do not have to follow them exactly, but they are included to help you think through the steps."
   ]
  },
  {
   "cell_type": "code",
   "execution_count": 3,
   "metadata": {
    "scrolled": true
   },
   "outputs": [],
   "source": [
    "# Dependencies and Setup\n",
    "import matplotlib.pyplot as plt\n",
    "import pandas as pd\n",
    "import numpy as np\n",
    "import requests\n",
    "import time\n",
    "from scipy.stats import linregress\n",
    "\n",
    "# Import API key\n",
    "from api_keys import weather_api_key\n",
    "\n",
    "# Incorporated citipy to determine city based on latitude and longitude\n",
    "from citipy import citipy\n",
    "\n",
    "# Output File (CSV)\n",
    "output_data_file = \"output_data/cities.csv\"\n",
    "\n",
    "# Range of latitudes and longitudes\n",
    "lat_range = (-90, 90)\n",
    "lng_range = (-180, 180)"
   ]
  },
  {
   "cell_type": "code",
   "execution_count": 2,
   "metadata": {},
   "outputs": [
    {
     "name": "stdout",
     "output_type": "stream",
     "text": [
      "Collecting citipy\n",
      "  Downloading citipy-0.0.5.tar.gz (557 kB)\n",
      "Collecting kdtree>=0.12\n",
      "  Downloading kdtree-0.16-py2.py3-none-any.whl (7.7 kB)\n",
      "Building wheels for collected packages: citipy\n",
      "  Building wheel for citipy (setup.py): started\n",
      "  Building wheel for citipy (setup.py): finished with status 'done'\n",
      "  Created wheel for citipy: filename=citipy-0.0.5-py3-none-any.whl size=559707 sha256=2a3989a4e1186f7f97f3cb3582e779bb756a16e2425a6973886159a884e1c070\n",
      "  Stored in directory: c:\\users\\ethan\\appdata\\local\\pip\\cache\\wheels\\72\\ae\\63\\5d03cf6dfe5c0e9328fb73f8b30da1948a06b9cceaf2c68d2d\n",
      "Successfully built citipy\n",
      "Installing collected packages: kdtree, citipy\n",
      "Successfully installed citipy-0.0.5 kdtree-0.16\n"
     ]
    }
   ],
   "source": [
    "!pip install citipy"
   ]
  },
  {
   "cell_type": "markdown",
   "metadata": {},
   "source": [
    "## Generate Cities List"
   ]
  },
  {
   "cell_type": "code",
   "execution_count": 4,
   "metadata": {},
   "outputs": [
    {
     "data": {
      "text/plain": [
       "602"
      ]
     },
     "execution_count": 4,
     "metadata": {},
     "output_type": "execute_result"
    }
   ],
   "source": [
    "# List for holding lat_lngs and cities\n",
    "lat_lngs = []\n",
    "cities = []\n",
    "\n",
    "# Create a set of random lat and lng combinations\n",
    "lats = np.random.uniform(lat_range[0], lat_range[1], size=1500)\n",
    "lngs = np.random.uniform(lng_range[0], lng_range[1], size=1500)\n",
    "lat_lngs = zip(lats, lngs)\n",
    "\n",
    "# Identify nearest city for each lat, lng combination\n",
    "for lat_lng in lat_lngs:\n",
    "    city = citipy.nearest_city(lat_lng[0], lat_lng[1]).city_name\n",
    "    \n",
    "    # If the city is unique, then add it to a our cities list\n",
    "    if city not in cities:\n",
    "        cities.append(city)\n",
    "\n",
    "# Print the city count to confirm sufficient count\n",
    "len(cities)"
   ]
  },
  {
   "cell_type": "code",
   "execution_count": 21,
   "metadata": {},
   "outputs": [
    {
     "data": {
      "text/plain": [
       "{'coord': {'lon': -122.42, 'lat': 37.77},\n",
       " 'weather': [{'id': 800,\n",
       "   'main': 'Clear',\n",
       "   'description': 'clear sky',\n",
       "   'icon': '01n'}],\n",
       " 'base': 'stations',\n",
       " 'main': {'temp': 290.49,\n",
       "  'feels_like': 283.12,\n",
       "  'temp_min': 287.59,\n",
       "  'temp_max': 293.15,\n",
       "  'pressure': 1016,\n",
       "  'humidity': 31},\n",
       " 'visibility': 10000,\n",
       " 'wind': {'speed': 7.7, 'deg': 290},\n",
       " 'clouds': {'all': 1},\n",
       " 'dt': 1604020928,\n",
       " 'sys': {'type': 1,\n",
       "  'id': 5817,\n",
       "  'country': 'US',\n",
       "  'sunrise': 1603981947,\n",
       "  'sunset': 1604020444},\n",
       " 'timezone': -25200,\n",
       " 'id': 5391959,\n",
       " 'name': 'San Francisco',\n",
       " 'cod': 200}"
      ]
     },
     "execution_count": 21,
     "metadata": {},
     "output_type": "execute_result"
    }
   ],
   "source": [
    "cities\n",
    "\n",
    "city_name = \"San Francisco\"\n",
    "#city_name = city_name.replace(\" \",\"%20\")\n",
    "api_url = f\"http://api.openweathermap.org/data/2.5/weather?q={city_name}&appid={weather_api_key}\"\n",
    "weather = requests.get(api_url)\n",
    "w = weather.json()\n",
    "w#[\"coord\"]\n"
   ]
  },
  {
   "cell_type": "markdown",
   "metadata": {},
   "source": [
    "### Perform API Calls\n",
    "* Perform a weather check on each city using a series of successive API calls.\n",
    "* Include a print log of each city as it'sbeing processed (with the city number and city name).\n"
   ]
  },
  {
   "cell_type": "code",
   "execution_count": 39,
   "metadata": {},
   "outputs": [
    {
     "name": "stdout",
     "output_type": "stream",
     "text": [
      "timra is 0th to be processed\n",
      "jiexiu is 1th to be processed\n",
      "esperance is 2th to be processed\n",
      "bluff is 3th to be processed\n",
      "vaijapur is 4th to be processed\n",
      "city of zachagansk not found\n",
      "makat is 6th to be processed\n",
      "punta arenas is 7th to be processed\n",
      "saint-philippe is 8th to be processed\n",
      "sapouy is 9th to be processed\n",
      "necochea is 10th to be processed\n",
      "cabo san lucas is 11th to be processed\n",
      "felipe carrillo puerto is 12th to be processed\n",
      "mataura is 13th to be processed\n",
      "neryungri is 14th to be processed\n",
      "hobart is 15th to be processed\n",
      "patacamaya is 16th to be processed\n",
      "hermanus is 17th to be processed\n",
      "verkhoyansk is 18th to be processed\n",
      "petropavlovsk-kamchatskiy is 19th to be processed\n",
      "acajutla is 20th to be processed\n",
      "butaritari is 21th to be processed\n",
      "somerset east is 22th to be processed\n",
      "georgetown is 23th to be processed\n",
      "cape town is 24th to be processed\n",
      "san carlos de bariloche is 25th to be processed\n",
      "albany is 26th to be processed\n",
      "coos bay is 27th to be processed\n",
      "busselton is 28th to be processed\n",
      "aykhal is 29th to be processed\n",
      "biloela is 30th to be processed\n",
      "debre tabor is 31th to be processed\n",
      "tessalit is 32th to be processed\n",
      "ponta do sol is 33th to be processed\n",
      "city of dubenskiy not found\n",
      "ushuaia is 35th to be processed\n",
      "thompson is 36th to be processed\n",
      "ribeira grande is 37th to be processed\n",
      "new norfolk is 38th to be processed\n",
      "city of grand river south east not found\n",
      "city of nizhneyansk not found\n",
      "khatanga is 41th to be processed\n",
      "gamba is 42th to be processed\n",
      "city of taolanaro not found\n",
      "upernavik is 44th to be processed\n",
      "kaitangata is 45th to be processed\n",
      "chokurdakh is 46th to be processed\n",
      "muisne is 47th to be processed\n",
      "kruisfontein is 48th to be processed\n",
      "valencia is 49th to be processed\n",
      "puerto ayora is 50th to be processed\n",
      "rikitea is 51th to be processed\n",
      "touros is 52th to be processed\n",
      "tiksi is 53th to be processed\n",
      "city of belushya guba not found\n",
      "ambilobe is 55th to be processed\n",
      "talnakh is 56th to be processed\n",
      "kapaa is 57th to be processed\n",
      "torbay is 58th to be processed\n",
      "carnarvon is 59th to be processed\n",
      "city of a not found\n",
      "saldanha is 61th to be processed\n",
      "city of labutta not found\n",
      "ust-nera is 63th to be processed\n",
      "vila velha is 64th to be processed\n",
      "cherskiy is 65th to be processed\n",
      "atuona is 66th to be processed\n",
      "jaca is 67th to be processed\n",
      "vaini is 68th to be processed\n",
      "olinda is 69th to be processed\n",
      "del rio is 70th to be processed\n",
      "san patricio is 71th to be processed\n",
      "port alfred is 72th to be processed\n",
      "bethel is 73th to be processed\n",
      "kahului is 74th to be processed\n",
      "itarema is 75th to be processed\n",
      "norman wells is 76th to be processed\n",
      "sao joao da barra is 77th to be processed\n",
      "ngunguru is 78th to be processed\n",
      "vostok is 79th to be processed\n",
      "tuatapere is 80th to be processed\n",
      "bam is 81th to be processed\n",
      "savonlinna is 82th to be processed\n",
      "linxia is 83th to be processed\n",
      "correntina is 84th to be processed\n",
      "tasiilaq is 85th to be processed\n",
      "quatre cocos is 86th to be processed\n",
      "faanui is 87th to be processed\n",
      "vestmannaeyjar is 88th to be processed\n",
      "kamaishi is 89th to be processed\n",
      "eureka is 90th to be processed\n",
      "qaanaaq is 91th to be processed\n",
      "city of samusu not found\n",
      "city of mys shmidta not found\n",
      "city of vaitupu not found\n",
      "ballina is 95th to be processed\n",
      "pangnirtung is 96th to be processed\n",
      "city of koboldo not found\n",
      "cockburn town is 98th to be processed\n",
      "tautira is 99th to be processed\n",
      "shelburne is 100th to be processed\n",
      "hilo is 101th to be processed\n",
      "smoky lake is 102th to be processed\n",
      "sungaipenuh is 103th to be processed\n",
      "sorong is 104th to be processed\n",
      "castro is 105th to be processed\n",
      "rio grande is 106th to be processed\n",
      "taunggyi is 107th to be processed\n",
      "chuy is 108th to be processed\n",
      "leningradskiy is 109th to be processed\n",
      "den helder is 110th to be processed\n",
      "wilmington is 111th to be processed\n",
      "barrow is 112th to be processed\n",
      "sitka is 113th to be processed\n",
      "vardo is 114th to be processed\n",
      "mendi is 115th to be processed\n",
      "mar del plata is 116th to be processed\n",
      "tiarei is 117th to be processed\n",
      "mayya is 118th to be processed\n",
      "city of attawapiskat not found\n",
      "amga is 120th to be processed\n",
      "vredendal is 121th to be processed\n",
      "malanje is 122th to be processed\n",
      "porto novo is 123th to be processed\n",
      "dharchula is 124th to be processed\n",
      "ancud is 125th to be processed\n",
      "kavieng is 126th to be processed\n",
      "hutchinson is 127th to be processed\n",
      "victoria is 128th to be processed\n",
      "provideniya is 129th to be processed\n",
      "erdaojiang is 130th to be processed\n",
      "kununurra is 131th to be processed\n",
      "ahuimanu is 132th to be processed\n",
      "nikolskoye is 133th to be processed\n",
      "ola is 134th to be processed\n",
      "villefontaine is 135th to be processed\n",
      "oda is 136th to be processed\n",
      "east london is 137th to be processed\n",
      "bozoum is 138th to be processed\n",
      "bani is 139th to be processed\n",
      "kemin is 140th to be processed\n",
      "jamestown is 141th to be processed\n",
      "bitung is 142th to be processed\n",
      "san cristobal is 143th to be processed\n",
      "paamiut is 144th to be processed\n",
      "poum is 145th to be processed\n",
      "sangmelima is 146th to be processed\n",
      "kalmunai is 147th to be processed\n",
      "toamasina is 148th to be processed\n",
      "fuengirola is 149th to be processed\n",
      "pevek is 150th to be processed\n",
      "vallenar is 151th to be processed\n",
      "hailey is 152th to be processed\n",
      "miraflores is 153th to be processed\n",
      "san luis is 154th to be processed\n",
      "saint-augustin is 155th to be processed\n",
      "city of illoqqortoormiut not found\n",
      "tuni is 157th to be processed\n",
      "harnosand is 158th to be processed\n",
      "geraldton is 159th to be processed\n",
      "manokwari is 160th to be processed\n",
      "kapuskasing is 161th to be processed\n",
      "city of sentyabrskiy not found\n",
      "isla mujeres is 163th to be processed\n",
      "angoche is 164th to be processed\n",
      "ilulissat is 165th to be processed\n",
      "pundaguitan is 166th to be processed\n",
      "narsaq is 167th to be processed\n",
      "city of mutsamudu not found\n",
      "city of amderma not found\n",
      "malabo is 170th to be processed\n",
      "fairbanks is 171th to be processed\n",
      "avarua is 172th to be processed\n",
      "te anau is 173th to be processed\n",
      "enumclaw is 174th to be processed\n",
      "henties bay is 175th to be processed\n",
      "city of guajara-mirim not found\n",
      "waddan is 177th to be processed\n",
      "salalah is 178th to be processed\n",
      "narnaund is 179th to be processed\n",
      "miranda do corvo is 180th to be processed\n",
      "marawi is 181th to be processed\n",
      "nouadhibou is 182th to be processed\n",
      "airai is 183th to be processed\n",
      "port elizabeth is 184th to be processed\n",
      "city of tsihombe not found\n",
      "kodiak is 186th to be processed\n",
      "arraial do cabo is 187th to be processed\n",
      "sibolga is 188th to be processed\n",
      "pontes e lacerda is 189th to be processed\n",
      "tuktoyaktuk is 190th to be processed\n",
      "diffa is 191th to be processed\n",
      "mahebourg is 192th to be processed\n",
      "makakilo city is 193th to be processed\n",
      "santa rosa is 194th to be processed\n",
      "kenai is 195th to be processed\n",
      "port hardy is 196th to be processed\n",
      "city of barentsburg not found\n",
      "portland is 198th to be processed\n",
      "kimberley is 199th to be processed\n",
      "salinopolis is 200th to be processed\n",
      "abhar is 201th to be processed\n",
      "beringovskiy is 202th to be processed\n",
      "bredasdorp is 203th to be processed\n",
      "buraydah is 204th to be processed\n",
      "breytovo is 205th to be processed\n",
      "city of marcona not found\n",
      "marzuq is 207th to be processed\n",
      "aksarka is 208th to be processed\n",
      "rochegda is 209th to be processed\n",
      "tezu is 210th to be processed\n",
      "margate is 211th to be processed\n",
      "fort nelson is 212th to be processed\n",
      "salvador is 213th to be processed\n",
      "iraucuba is 214th to be processed\n",
      "severo-kurilsk is 215th to be processed\n",
      "new richmond is 216th to be processed\n",
      "takoradi is 217th to be processed\n",
      "lorengau is 218th to be processed\n",
      "bardiyah is 219th to be processed\n",
      "clyde river is 220th to be processed\n",
      "asfi is 221th to be processed\n",
      "port augusta is 222th to be processed\n",
      "lata is 223th to be processed\n",
      "aksu is 224th to be processed\n",
      "nanortalik is 225th to be processed\n",
      "moengo is 226th to be processed\n",
      "watsa is 227th to be processed\n",
      "tocopilla is 228th to be processed\n",
      "utrecht is 229th to be processed\n",
      "bambous virieux is 230th to be processed\n",
      "beroroha is 231th to be processed\n",
      "harper is 232th to be processed\n",
      "liwale is 233th to be processed\n",
      "pisco is 234th to be processed\n",
      "djibo is 235th to be processed\n",
      "haines junction is 236th to be processed\n",
      "le port is 237th to be processed\n",
      "city of nguiu not found\n",
      "inhambane is 239th to be processed\n",
      "loa janan is 240th to be processed\n",
      "trat is 241th to be processed\n",
      "trairi is 242th to be processed\n",
      "la malbaie is 243th to be processed\n",
      "birao is 244th to be processed\n"
     ]
    },
    {
     "name": "stdout",
     "output_type": "stream",
     "text": [
      "syamzha is 245th to be processed\n",
      "urumqi is 246th to be processed\n",
      "aktau is 247th to be processed\n",
      "kirakira is 248th to be processed\n",
      "mount gambier is 249th to be processed\n",
      "city of bolungarvik not found\n",
      "sturgeon falls is 251th to be processed\n",
      "maniitsoq is 252th to be processed\n",
      "gat is 253th to be processed\n",
      "city of barawe not found\n",
      "dwarka is 255th to be processed\n",
      "tromso is 256th to be processed\n",
      "klaksvik is 257th to be processed\n",
      "biak is 258th to be processed\n",
      "city of halalo not found\n",
      "rovaniemi is 260th to be processed\n",
      "constitucion is 261th to be processed\n",
      "city of jubayl not found\n",
      "saint-georges is 263th to be processed\n",
      "elko is 264th to be processed\n",
      "tanete is 265th to be processed\n",
      "podolinec is 266th to be processed\n",
      "sawtell is 267th to be processed\n",
      "alta floresta is 268th to be processed\n",
      "dikson is 269th to be processed\n",
      "luganville is 270th to be processed\n",
      "comodoro rivadavia is 271th to be processed\n",
      "city of meyungs not found\n",
      "nizhniy odes is 273th to be processed\n",
      "rauma is 274th to be processed\n",
      "payson is 275th to be processed\n",
      "khokhryaki is 276th to be processed\n",
      "udachnyy is 277th to be processed\n",
      "prince albert is 278th to be processed\n",
      "aklavik is 279th to be processed\n",
      "sar-e pul is 280th to be processed\n",
      "srisailam is 281th to be processed\n",
      "lebu is 282th to be processed\n",
      "chicama is 283th to be processed\n",
      "jardim is 284th to be processed\n",
      "faya is 285th to be processed\n",
      "laguna is 286th to be processed\n",
      "neuquen is 287th to be processed\n",
      "yellowknife is 288th to be processed\n",
      "city of valjala not found\n",
      "nyurba is 290th to be processed\n",
      "marfino is 291th to be processed\n",
      "chara is 292th to be processed\n",
      "caarapo is 293th to be processed\n",
      "san rafael is 294th to be processed\n",
      "beihai is 295th to be processed\n",
      "kuching is 296th to be processed\n",
      "senanga is 297th to be processed\n",
      "havoysund is 298th to be processed\n",
      "avera is 299th to be processed\n",
      "vila franca do campo is 300th to be processed\n",
      "hithadhoo is 301th to be processed\n",
      "akdepe is 302th to be processed\n",
      "jasper is 303th to be processed\n",
      "gariaband is 304th to be processed\n",
      "rocha is 305th to be processed\n",
      "griffith is 306th to be processed\n",
      "rawson is 307th to be processed\n",
      "klobuck is 308th to be processed\n",
      "sabang is 309th to be processed\n",
      "binga is 310th to be processed\n",
      "namibe is 311th to be processed\n",
      "saskylakh is 312th to be processed\n",
      "blagoyevo is 313th to be processed\n",
      "candido de abreu is 314th to be processed\n",
      "iqaluit is 315th to be processed\n",
      "hunchun is 316th to be processed\n",
      "city of aflu not found\n",
      "coquimbo is 318th to be processed\n",
      "axim is 319th to be processed\n",
      "city of tasbuget not found\n",
      "miri is 321th to be processed\n",
      "nara is 322th to be processed\n",
      "lavrentiya is 323th to be processed\n",
      "lahad datu is 324th to be processed\n",
      "springbok is 325th to be processed\n",
      "souillac is 326th to be processed\n",
      "quelimane is 327th to be processed\n",
      "urucui is 328th to be processed\n",
      "longyearbyen is 329th to be processed\n",
      "huanan is 330th to be processed\n",
      "kandrian is 331th to be processed\n",
      "wuwei is 332th to be processed\n",
      "mirnyy is 333th to be processed\n",
      "bundaberg is 334th to be processed\n",
      "ahipara is 335th to be processed\n",
      "city of jujuy not found\n",
      "rosarito is 337th to be processed\n",
      "mukhen is 338th to be processed\n",
      "san quintin is 339th to be processed\n",
      "bartica is 340th to be processed\n",
      "college is 341th to be processed\n",
      "road town is 342th to be processed\n",
      "zhigansk is 343th to be processed\n",
      "city of tabiauea not found\n",
      "sudak is 345th to be processed\n",
      "umm lajj is 346th to be processed\n",
      "ransang is 347th to be processed\n",
      "city of manzil jamil not found\n",
      "hasaki is 349th to be processed\n",
      "dunedin is 350th to be processed\n",
      "tigil is 351th to be processed\n",
      "pavino is 352th to be processed\n",
      "jatai is 353th to be processed\n",
      "tondi is 354th to be processed\n",
      "iskateley is 355th to be processed\n",
      "makokou is 356th to be processed\n",
      "plettenberg bay is 357th to be processed\n",
      "canoinhas is 358th to be processed\n",
      "umm kaddadah is 359th to be processed\n",
      "huarmey is 360th to be processed\n",
      "aswan is 361th to be processed\n",
      "city of khonuu not found\n",
      "varna is 363th to be processed\n",
      "coruripe is 364th to be processed\n",
      "city of umzimvubu not found\n",
      "suruc is 366th to be processed\n",
      "omsukchan is 367th to be processed\n",
      "gorin is 368th to be processed\n",
      "pasni is 369th to be processed\n",
      "puerto quijarro is 370th to be processed\n",
      "city of saleaula not found\n",
      "vanimo is 372th to be processed\n",
      "andenes is 373th to be processed\n",
      "tottori is 374th to be processed\n",
      "padang is 375th to be processed\n",
      "city of utiroa not found\n",
      "palauig is 377th to be processed\n",
      "punta umbria is 378th to be processed\n",
      "innisfail is 379th to be processed\n",
      "ambovombe is 380th to be processed\n",
      "narasapur is 381th to be processed\n",
      "nizhneangarsk is 382th to be processed\n",
      "city of doctor pedro p. pena not found\n",
      "umkomaas is 384th to be processed\n",
      "kismayo is 385th to be processed\n",
      "mount isa is 386th to be processed\n",
      "tulum is 387th to be processed\n",
      "city of lugovskiy not found\n",
      "clovis is 389th to be processed\n",
      "salekhard is 390th to be processed\n",
      "yurimaguas is 391th to be processed\n",
      "bonavista is 392th to be processed\n",
      "bilibino is 393th to be processed\n",
      "mahon is 394th to be processed\n",
      "upington is 395th to be processed\n",
      "saint george is 396th to be processed\n",
      "city of ust-kamchatsk not found\n",
      "banda aceh is 398th to be processed\n",
      "marsh harbour is 399th to be processed\n",
      "naze is 400th to be processed\n",
      "bengkulu is 401th to be processed\n",
      "sakakah is 402th to be processed\n",
      "cayenne is 403th to be processed\n",
      "qaqortoq is 404th to be processed\n",
      "shiraz is 405th to be processed\n",
      "berlevag is 406th to be processed\n",
      "city of jinchengjiang not found\n",
      "kholmogory is 408th to be processed\n",
      "cordoba is 409th to be processed\n",
      "sola is 410th to be processed\n",
      "burns lake is 411th to be processed\n",
      "auki is 412th to be processed\n",
      "city of cockburn harbour not found\n",
      "city of mergui not found\n",
      "lagoa is 415th to be processed\n",
      "conde is 416th to be processed\n",
      "sur is 417th to be processed\n",
      "khorramshahr is 418th to be processed\n",
      "bagdarin is 419th to be processed\n",
      "namtsy is 420th to be processed\n",
      "karratha is 421th to be processed\n",
      "leh is 422th to be processed\n",
      "ketchikan is 423th to be processed\n",
      "ginir is 424th to be processed\n",
      "oum hadjer is 425th to be processed\n",
      "ust-koksa is 426th to be processed\n",
      "lerwick is 427th to be processed\n",
      "qasigiannguit is 428th to be processed\n",
      "villa bruzual is 429th to be processed\n",
      "betare oya is 430th to be processed\n",
      "bonthe is 431th to be processed\n",
      "erzin is 432th to be processed\n",
      "amapa is 433th to be processed\n",
      "juneau is 434th to be processed\n",
      "grand gaube is 435th to be processed\n",
      "bintulu is 436th to be processed\n",
      "grindavik is 437th to be processed\n",
      "tucuman is 438th to be processed\n",
      "ignalina is 439th to be processed\n",
      "mosetse is 440th to be processed\n",
      "mackay is 441th to be processed\n",
      "husavik is 442th to be processed\n",
      "kurchum is 443th to be processed\n",
      "yulara is 444th to be processed\n",
      "city of inderborskiy not found\n",
      "san joaquin is 446th to be processed\n",
      "baruun-urt is 447th to be processed\n",
      "loviisa is 448th to be processed\n",
      "srivardhan is 449th to be processed\n",
      "gornyak is 450th to be processed\n",
      "santa eulalia is 451th to be processed\n",
      "deputatskiy is 452th to be processed\n",
      "lenoir city is 453th to be processed\n",
      "mezen is 454th to be processed\n",
      "hirara is 455th to be processed\n",
      "port macquarie is 456th to be processed\n",
      "hervey bay is 457th to be processed\n",
      "isangel is 458th to be processed\n",
      "kulhudhuffushi is 459th to be processed\n",
      "grande prairie is 460th to be processed\n",
      "amet is 461th to be processed\n",
      "jiujiang is 462th to be processed\n",
      "ati is 463th to be processed\n",
      "luancheng is 464th to be processed\n",
      "acarau is 465th to be processed\n",
      "dzhebariki-khaya is 466th to be processed\n",
      "kloulklubed is 467th to be processed\n",
      "gunjur is 468th to be processed\n",
      "santiago del estero is 469th to be processed\n",
      "knysna is 470th to be processed\n",
      "juba is 471th to be processed\n",
      "taltal is 472th to be processed\n",
      "ivankiv is 473th to be processed\n",
      "grand-santi is 474th to be processed\n",
      "sambava is 475th to be processed\n",
      "mae hong son is 476th to be processed\n",
      "kamenka is 477th to be processed\n",
      "abay is 478th to be processed\n",
      "alyangula is 479th to be processed\n",
      "veraval is 480th to be processed\n",
      "bredy is 481th to be processed\n",
      "mushie is 482th to be processed\n",
      "kuito is 483th to be processed\n",
      "vao is 484th to be processed\n",
      "kieta is 485th to be processed\n",
      "kuandian is 486th to be processed\n",
      "santa isabel is 487th to be processed\n",
      "tanda is 488th to be processed\n",
      "saint-pierre is 489th to be processed\n",
      "otradnoye is 490th to be processed\n",
      "camana is 491th to be processed\n"
     ]
    },
    {
     "name": "stdout",
     "output_type": "stream",
     "text": [
      "los llanos de aridane is 492th to be processed\n",
      "alofi is 493th to be processed\n",
      "suhbaatar is 494th to be processed\n",
      "standerton is 495th to be processed\n",
      "chimbote is 496th to be processed\n",
      "lasa is 497th to be processed\n",
      "rudbar is 498th to be processed\n",
      "finnsnes is 499th to be processed\n",
      "birnin kebbi is 500th to be processed\n",
      "antofagasta is 501th to be processed\n",
      "kurilsk is 502th to be processed\n",
      "cumberland is 503th to be processed\n",
      "nova olinda do norte is 504th to be processed\n",
      "vestmanna is 505th to be processed\n",
      "fairview is 506th to be processed\n",
      "tahoua is 507th to be processed\n",
      "gizycko is 508th to be processed\n",
      "pervomayskoye is 509th to be processed\n",
      "luan is 510th to be processed\n",
      "batticaloa is 511th to be processed\n",
      "dawlatabad is 512th to be processed\n",
      "sarkand is 513th to be processed\n",
      "saint-gaudens is 514th to be processed\n",
      "muros is 515th to be processed\n",
      "kavaratti is 516th to be processed\n",
      "heyang is 517th to be processed\n",
      "boa vista is 518th to be processed\n",
      "chumikan is 519th to be processed\n",
      "san carlos is 520th to be processed\n",
      "denpasar is 521th to be processed\n",
      "abonnema is 522th to be processed\n",
      "athens is 523th to be processed\n",
      "neiafu is 524th to be processed\n",
      "buala is 525th to be processed\n",
      "katsuura is 526th to be processed\n",
      "dekar is 527th to be processed\n",
      "nacala is 528th to be processed\n",
      "raudeberg is 529th to be processed\n",
      "saint-louis is 530th to be processed\n",
      "sembe is 531th to be processed\n",
      "filimonovo is 532th to be processed\n",
      "broken hill is 533th to be processed\n",
      "hofn is 534th to be processed\n",
      "anderson is 535th to be processed\n",
      "cap malheureux is 536th to be processed\n",
      "codrington is 537th to be processed\n",
      "nadym is 538th to be processed\n",
      "puerto madryn is 539th to be processed\n",
      "kharagpur is 540th to be processed\n",
      "skjervoy is 541th to be processed\n",
      "atambua is 542th to be processed\n",
      "ostrovnoy is 543th to be processed\n",
      "bubaque is 544th to be processed\n",
      "city of cheuskiny not found\n",
      "ayorou is 546th to be processed\n",
      "banyo is 547th to be processed\n",
      "matay is 548th to be processed\n",
      "schwarzenbach is 549th to be processed\n",
      "porto is 550th to be processed\n",
      "mbanza-ngungu is 551th to be processed\n",
      "gedo is 552th to be processed\n",
      "pacific grove is 553th to be processed\n",
      "fortuna is 554th to be processed\n",
      "city of tumannyy not found\n",
      "imbituba is 556th to be processed\n",
      "monywa is 557th to be processed\n",
      "daru is 558th to be processed\n",
      "tadine is 559th to be processed\n",
      "city of silyanah not found\n",
      "roald is 561th to be processed\n",
      "seminole is 562th to be processed\n",
      "presidencia roque saenz pena is 563th to be processed\n",
      "clinton is 564th to be processed\n",
      "coxquihui is 565th to be processed\n",
      "kutum is 566th to be processed\n",
      "srednekolymsk is 567th to be processed\n",
      "fier is 568th to be processed\n",
      "najran is 569th to be processed\n",
      "upata is 570th to be processed\n",
      "korla is 571th to be processed\n",
      "hue is 572th to be processed\n",
      "yenangyaung is 573th to be processed\n",
      "city of ngukurr not found\n",
      "city of rungata not found\n",
      "kaseda is 576th to be processed\n",
      "moussoro is 577th to be processed\n",
      "charlottesville is 578th to be processed\n",
      "yerbogachen is 579th to be processed\n",
      "la ronge is 580th to be processed\n",
      "mayumba is 581th to be processed\n",
      "boende is 582th to be processed\n",
      "raga is 583th to be processed\n",
      "hay river is 584th to be processed\n",
      "bongaree is 585th to be processed\n",
      "ossora is 586th to be processed\n",
      "bulawayo is 587th to be processed\n",
      "puerto baquerizo moreno is 588th to be processed\n",
      "obzor is 589th to be processed\n",
      "lamu is 590th to be processed\n",
      "filadelfia is 591th to be processed\n",
      "jieshi is 592th to be processed\n",
      "dalhousie is 593th to be processed\n",
      "marshalltown is 594th to be processed\n",
      "redmond is 595th to be processed\n",
      "dingle is 596th to be processed\n",
      "soignies is 597th to be processed\n",
      "ornskoldsvik is 598th to be processed\n",
      "kasongo-lunda is 599th to be processed\n",
      "city of phan rang not found\n",
      "ankara is 601th to be processed\n",
      "---\n",
      "Done.\n",
      "---\n"
     ]
    }
   ],
   "source": [
    "i=0\n",
    "weather_cities = []\n",
    "lat = []\n",
    "long = []\n",
    "max_temp = []\n",
    "humidity = []\n",
    "cloudiness = []\n",
    "wind_spd = []\n",
    "country = []\n",
    "date = []\n",
    "\n",
    "for city in cities:\n",
    "    try:\n",
    "        api_url = f\"http://api.openweathermap.org/data/2.5/weather?q={city}&appid={weather_api_key}\"\n",
    "        weather = requests.get(api_url)\n",
    "        w = weather.json()\n",
    "        weather_cities.append(w[\"name\"])\n",
    "        lat.append(w[\"coord\"][\"lat\"])\n",
    "        long.append(w[\"coord\"][\"lon\"])\n",
    "        max_temp.append(w[\"main\"][\"temp_max\"])\n",
    "        humidity.append(w[\"main\"][\"humidity\"])\n",
    "        cloudiness.append(w[\"clouds\"][\"all\"])\n",
    "        wind_spd.append(w[\"wind\"][\"speed\"])\n",
    "        country.append(w[\"sys\"][\"country\"])\n",
    "        date.append(w[\"dt\"])\n",
    "        print(f\"{city} is {i}th to be processed\")\n",
    "        i=i+1\n",
    "    except KeyError:\n",
    "        print(f\"city of {city} not found\")\n",
    "        i=i+1\n",
    "        pass\n",
    "print(\"---\")\n",
    "print(\"Done.\")\n",
    "print(\"---\")"
   ]
  },
  {
   "cell_type": "markdown",
   "metadata": {},
   "source": [
    "### Convert Raw Data to DataFrame\n",
    "* Export the city data into a .csv.\n",
    "* Display the DataFrame"
   ]
  },
  {
   "cell_type": "code",
   "execution_count": 40,
   "metadata": {},
   "outputs": [
    {
     "data": {
      "text/plain": [
       "city          552\n",
       "lat           552\n",
       "long          552\n",
       "max_temp      552\n",
       "humidity      552\n",
       "cloudiness    552\n",
       "wind_spd      552\n",
       "country       552\n",
       "date          552\n",
       "dtype: int64"
      ]
     },
     "execution_count": 40,
     "metadata": {},
     "output_type": "execute_result"
    }
   ],
   "source": [
    "df = pd.DataFrame({\n",
    "    \"city\":weather_cities,\n",
    "    \"lat\":lat,\n",
    "    \"long\":long,\n",
    "    \"max_temp\":max_temp,\n",
    "    \"humidity\":humidity,\n",
    "    \"cloudiness\":cloudiness,\n",
    "    \"wind_spd\":wind_spd,\n",
    "    \"country\":country,\n",
    "    \"date\":date\n",
    "})\n",
    "df.count()"
   ]
  },
  {
   "cell_type": "code",
   "execution_count": 45,
   "metadata": {},
   "outputs": [
    {
     "data": {
      "text/html": [
       "<div>\n",
       "<style scoped>\n",
       "    .dataframe tbody tr th:only-of-type {\n",
       "        vertical-align: middle;\n",
       "    }\n",
       "\n",
       "    .dataframe tbody tr th {\n",
       "        vertical-align: top;\n",
       "    }\n",
       "\n",
       "    .dataframe thead th {\n",
       "        text-align: right;\n",
       "    }\n",
       "</style>\n",
       "<table border=\"1\" class=\"dataframe\">\n",
       "  <thead>\n",
       "    <tr style=\"text-align: right;\">\n",
       "      <th></th>\n",
       "      <th>city</th>\n",
       "      <th>lat</th>\n",
       "      <th>long</th>\n",
       "      <th>max_temp</th>\n",
       "      <th>humidity</th>\n",
       "      <th>cloudiness</th>\n",
       "      <th>wind_spd</th>\n",
       "      <th>country</th>\n",
       "      <th>date</th>\n",
       "    </tr>\n",
       "  </thead>\n",
       "  <tbody>\n",
       "    <tr>\n",
       "      <th>0</th>\n",
       "      <td>Timrå</td>\n",
       "      <td>62.49</td>\n",
       "      <td>17.33</td>\n",
       "      <td>276.48</td>\n",
       "      <td>93</td>\n",
       "      <td>0</td>\n",
       "      <td>3.10</td>\n",
       "      <td>SE</td>\n",
       "      <td>1604034070</td>\n",
       "    </tr>\n",
       "    <tr>\n",
       "      <th>1</th>\n",
       "      <td>Jiexiu</td>\n",
       "      <td>37.02</td>\n",
       "      <td>111.91</td>\n",
       "      <td>288.31</td>\n",
       "      <td>42</td>\n",
       "      <td>0</td>\n",
       "      <td>1.38</td>\n",
       "      <td>CN</td>\n",
       "      <td>1604034070</td>\n",
       "    </tr>\n",
       "    <tr>\n",
       "      <th>2</th>\n",
       "      <td>Esperance</td>\n",
       "      <td>-33.87</td>\n",
       "      <td>121.90</td>\n",
       "      <td>299.15</td>\n",
       "      <td>22</td>\n",
       "      <td>87</td>\n",
       "      <td>5.70</td>\n",
       "      <td>AU</td>\n",
       "      <td>1604034070</td>\n",
       "    </tr>\n",
       "    <tr>\n",
       "      <th>3</th>\n",
       "      <td>Bluff</td>\n",
       "      <td>-46.60</td>\n",
       "      <td>168.33</td>\n",
       "      <td>288.71</td>\n",
       "      <td>92</td>\n",
       "      <td>100</td>\n",
       "      <td>1.79</td>\n",
       "      <td>NZ</td>\n",
       "      <td>1604034070</td>\n",
       "    </tr>\n",
       "    <tr>\n",
       "      <th>4</th>\n",
       "      <td>Vaijāpur</td>\n",
       "      <td>19.92</td>\n",
       "      <td>74.73</td>\n",
       "      <td>299.73</td>\n",
       "      <td>40</td>\n",
       "      <td>0</td>\n",
       "      <td>1.47</td>\n",
       "      <td>IN</td>\n",
       "      <td>1604034070</td>\n",
       "    </tr>\n",
       "  </tbody>\n",
       "</table>\n",
       "</div>"
      ],
      "text/plain": [
       "        city    lat    long  max_temp  humidity  cloudiness  wind_spd country  \\\n",
       "0      Timrå  62.49   17.33    276.48        93           0      3.10      SE   \n",
       "1     Jiexiu  37.02  111.91    288.31        42           0      1.38      CN   \n",
       "2  Esperance -33.87  121.90    299.15        22          87      5.70      AU   \n",
       "3      Bluff -46.60  168.33    288.71        92         100      1.79      NZ   \n",
       "4   Vaijāpur  19.92   74.73    299.73        40           0      1.47      IN   \n",
       "\n",
       "         date  \n",
       "0  1604034070  \n",
       "1  1604034070  \n",
       "2  1604034070  \n",
       "3  1604034070  \n",
       "4  1604034070  "
      ]
     },
     "execution_count": 45,
     "metadata": {},
     "output_type": "execute_result"
    }
   ],
   "source": [
    "df.to_csv(\"weatherdata\", index=True,header=True)\n",
    "df.head()\n"
   ]
  },
  {
   "cell_type": "markdown",
   "metadata": {},
   "source": [
    "## Inspect the data and remove the cities where the humidity > 100%.\n",
    "----\n",
    "Skip this step if there are no cities that have humidity > 100%. "
   ]
  },
  {
   "cell_type": "code",
   "execution_count": 46,
   "metadata": {},
   "outputs": [
    {
     "data": {
      "text/html": [
       "<div>\n",
       "<style scoped>\n",
       "    .dataframe tbody tr th:only-of-type {\n",
       "        vertical-align: middle;\n",
       "    }\n",
       "\n",
       "    .dataframe tbody tr th {\n",
       "        vertical-align: top;\n",
       "    }\n",
       "\n",
       "    .dataframe thead th {\n",
       "        text-align: right;\n",
       "    }\n",
       "</style>\n",
       "<table border=\"1\" class=\"dataframe\">\n",
       "  <thead>\n",
       "    <tr style=\"text-align: right;\">\n",
       "      <th></th>\n",
       "      <th>lat</th>\n",
       "      <th>long</th>\n",
       "      <th>max_temp</th>\n",
       "      <th>humidity</th>\n",
       "      <th>cloudiness</th>\n",
       "      <th>wind_spd</th>\n",
       "      <th>date</th>\n",
       "    </tr>\n",
       "  </thead>\n",
       "  <tbody>\n",
       "    <tr>\n",
       "      <th>count</th>\n",
       "      <td>552.000000</td>\n",
       "      <td>552.000000</td>\n",
       "      <td>552.000000</td>\n",
       "      <td>552.000000</td>\n",
       "      <td>552.000000</td>\n",
       "      <td>552.000000</td>\n",
       "      <td>5.520000e+02</td>\n",
       "    </tr>\n",
       "    <tr>\n",
       "      <th>mean</th>\n",
       "      <td>18.902337</td>\n",
       "      <td>19.974239</td>\n",
       "      <td>287.626504</td>\n",
       "      <td>73.019928</td>\n",
       "      <td>51.327899</td>\n",
       "      <td>3.396033</td>\n",
       "      <td>1.604034e+09</td>\n",
       "    </tr>\n",
       "    <tr>\n",
       "      <th>std</th>\n",
       "      <td>33.949574</td>\n",
       "      <td>89.904155</td>\n",
       "      <td>12.557563</td>\n",
       "      <td>22.023613</td>\n",
       "      <td>40.302343</td>\n",
       "      <td>2.446310</td>\n",
       "      <td>8.015701e+01</td>\n",
       "    </tr>\n",
       "    <tr>\n",
       "      <th>min</th>\n",
       "      <td>-54.800000</td>\n",
       "      <td>-175.200000</td>\n",
       "      <td>251.550000</td>\n",
       "      <td>6.000000</td>\n",
       "      <td>0.000000</td>\n",
       "      <td>0.060000</td>\n",
       "      <td>1.604034e+09</td>\n",
       "    </tr>\n",
       "    <tr>\n",
       "      <th>25%</th>\n",
       "      <td>-9.777500</td>\n",
       "      <td>-57.612500</td>\n",
       "      <td>279.770000</td>\n",
       "      <td>59.000000</td>\n",
       "      <td>4.000000</td>\n",
       "      <td>1.500000</td>\n",
       "      <td>1.604034e+09</td>\n",
       "    </tr>\n",
       "    <tr>\n",
       "      <th>50%</th>\n",
       "      <td>20.710000</td>\n",
       "      <td>23.545000</td>\n",
       "      <td>289.325000</td>\n",
       "      <td>79.000000</td>\n",
       "      <td>59.500000</td>\n",
       "      <td>2.715000</td>\n",
       "      <td>1.604034e+09</td>\n",
       "    </tr>\n",
       "    <tr>\n",
       "      <th>75%</th>\n",
       "      <td>47.670000</td>\n",
       "      <td>98.172500</td>\n",
       "      <td>298.150000</td>\n",
       "      <td>91.000000</td>\n",
       "      <td>90.000000</td>\n",
       "      <td>4.662500</td>\n",
       "      <td>1.604034e+09</td>\n",
       "    </tr>\n",
       "    <tr>\n",
       "      <th>max</th>\n",
       "      <td>78.220000</td>\n",
       "      <td>179.320000</td>\n",
       "      <td>311.150000</td>\n",
       "      <td>100.000000</td>\n",
       "      <td>100.000000</td>\n",
       "      <td>14.900000</td>\n",
       "      <td>1.604035e+09</td>\n",
       "    </tr>\n",
       "  </tbody>\n",
       "</table>\n",
       "</div>"
      ],
      "text/plain": [
       "              lat        long    max_temp    humidity  cloudiness    wind_spd  \\\n",
       "count  552.000000  552.000000  552.000000  552.000000  552.000000  552.000000   \n",
       "mean    18.902337   19.974239  287.626504   73.019928   51.327899    3.396033   \n",
       "std     33.949574   89.904155   12.557563   22.023613   40.302343    2.446310   \n",
       "min    -54.800000 -175.200000  251.550000    6.000000    0.000000    0.060000   \n",
       "25%     -9.777500  -57.612500  279.770000   59.000000    4.000000    1.500000   \n",
       "50%     20.710000   23.545000  289.325000   79.000000   59.500000    2.715000   \n",
       "75%     47.670000   98.172500  298.150000   91.000000   90.000000    4.662500   \n",
       "max     78.220000  179.320000  311.150000  100.000000  100.000000   14.900000   \n",
       "\n",
       "               date  \n",
       "count  5.520000e+02  \n",
       "mean   1.604034e+09  \n",
       "std    8.015701e+01  \n",
       "min    1.604034e+09  \n",
       "25%    1.604034e+09  \n",
       "50%    1.604034e+09  \n",
       "75%    1.604034e+09  \n",
       "max    1.604035e+09  "
      ]
     },
     "execution_count": 46,
     "metadata": {},
     "output_type": "execute_result"
    }
   ],
   "source": [
    "df.describe()"
   ]
  },
  {
   "cell_type": "code",
   "execution_count": 47,
   "metadata": {},
   "outputs": [
    {
     "data": {
      "text/html": [
       "<div>\n",
       "<style scoped>\n",
       "    .dataframe tbody tr th:only-of-type {\n",
       "        vertical-align: middle;\n",
       "    }\n",
       "\n",
       "    .dataframe tbody tr th {\n",
       "        vertical-align: top;\n",
       "    }\n",
       "\n",
       "    .dataframe thead th {\n",
       "        text-align: right;\n",
       "    }\n",
       "</style>\n",
       "<table border=\"1\" class=\"dataframe\">\n",
       "  <thead>\n",
       "    <tr style=\"text-align: right;\">\n",
       "      <th></th>\n",
       "      <th>city</th>\n",
       "      <th>lat</th>\n",
       "      <th>long</th>\n",
       "      <th>max_temp</th>\n",
       "      <th>humidity</th>\n",
       "      <th>cloudiness</th>\n",
       "      <th>wind_spd</th>\n",
       "      <th>country</th>\n",
       "      <th>date</th>\n",
       "    </tr>\n",
       "  </thead>\n",
       "  <tbody>\n",
       "  </tbody>\n",
       "</table>\n",
       "</div>"
      ],
      "text/plain": [
       "Empty DataFrame\n",
       "Columns: [city, lat, long, max_temp, humidity, cloudiness, wind_spd, country, date]\n",
       "Index: []"
      ]
     },
     "execution_count": 47,
     "metadata": {},
     "output_type": "execute_result"
    }
   ],
   "source": [
    "#  Get the indices of cities that have humidity over 100%.\n",
    "df.loc[df[\"humidity\"] > 100, :]"
   ]
  },
  {
   "cell_type": "code",
   "execution_count": 52,
   "metadata": {},
   "outputs": [
    {
     "data": {
      "text/html": [
       "<div>\n",
       "<style scoped>\n",
       "    .dataframe tbody tr th:only-of-type {\n",
       "        vertical-align: middle;\n",
       "    }\n",
       "\n",
       "    .dataframe tbody tr th {\n",
       "        vertical-align: top;\n",
       "    }\n",
       "\n",
       "    .dataframe thead th {\n",
       "        text-align: right;\n",
       "    }\n",
       "</style>\n",
       "<table border=\"1\" class=\"dataframe\">\n",
       "  <thead>\n",
       "    <tr style=\"text-align: right;\">\n",
       "      <th></th>\n",
       "      <th>city</th>\n",
       "      <th>lat</th>\n",
       "      <th>long</th>\n",
       "      <th>max_temp</th>\n",
       "      <th>humidity</th>\n",
       "      <th>cloudiness</th>\n",
       "      <th>wind_spd</th>\n",
       "      <th>country</th>\n",
       "      <th>date</th>\n",
       "    </tr>\n",
       "  </thead>\n",
       "  <tbody>\n",
       "    <tr>\n",
       "      <th>0</th>\n",
       "      <td>Timrå</td>\n",
       "      <td>62.49</td>\n",
       "      <td>17.33</td>\n",
       "      <td>276.48</td>\n",
       "      <td>93</td>\n",
       "      <td>0</td>\n",
       "      <td>3.10</td>\n",
       "      <td>SE</td>\n",
       "      <td>1604034070</td>\n",
       "    </tr>\n",
       "    <tr>\n",
       "      <th>1</th>\n",
       "      <td>Jiexiu</td>\n",
       "      <td>37.02</td>\n",
       "      <td>111.91</td>\n",
       "      <td>288.31</td>\n",
       "      <td>42</td>\n",
       "      <td>0</td>\n",
       "      <td>1.38</td>\n",
       "      <td>CN</td>\n",
       "      <td>1604034070</td>\n",
       "    </tr>\n",
       "    <tr>\n",
       "      <th>2</th>\n",
       "      <td>Esperance</td>\n",
       "      <td>-33.87</td>\n",
       "      <td>121.90</td>\n",
       "      <td>299.15</td>\n",
       "      <td>22</td>\n",
       "      <td>87</td>\n",
       "      <td>5.70</td>\n",
       "      <td>AU</td>\n",
       "      <td>1604034070</td>\n",
       "    </tr>\n",
       "    <tr>\n",
       "      <th>3</th>\n",
       "      <td>Bluff</td>\n",
       "      <td>-46.60</td>\n",
       "      <td>168.33</td>\n",
       "      <td>288.71</td>\n",
       "      <td>92</td>\n",
       "      <td>100</td>\n",
       "      <td>1.79</td>\n",
       "      <td>NZ</td>\n",
       "      <td>1604034070</td>\n",
       "    </tr>\n",
       "    <tr>\n",
       "      <th>4</th>\n",
       "      <td>Vaijāpur</td>\n",
       "      <td>19.92</td>\n",
       "      <td>74.73</td>\n",
       "      <td>299.73</td>\n",
       "      <td>40</td>\n",
       "      <td>0</td>\n",
       "      <td>1.47</td>\n",
       "      <td>IN</td>\n",
       "      <td>1604034070</td>\n",
       "    </tr>\n",
       "  </tbody>\n",
       "</table>\n",
       "</div>"
      ],
      "text/plain": [
       "        city    lat    long  max_temp  humidity  cloudiness  wind_spd country  \\\n",
       "0      Timrå  62.49   17.33    276.48        93           0      3.10      SE   \n",
       "1     Jiexiu  37.02  111.91    288.31        42           0      1.38      CN   \n",
       "2  Esperance -33.87  121.90    299.15        22          87      5.70      AU   \n",
       "3      Bluff -46.60  168.33    288.71        92         100      1.79      NZ   \n",
       "4   Vaijāpur  19.92   74.73    299.73        40           0      1.47      IN   \n",
       "\n",
       "         date  \n",
       "0  1604034070  \n",
       "1  1604034070  \n",
       "2  1604034070  \n",
       "3  1604034070  \n",
       "4  1604034070  "
      ]
     },
     "execution_count": 52,
     "metadata": {},
     "output_type": "execute_result"
    }
   ],
   "source": [
    "# Make a new DataFrame equal to the city data to drop all humidity outliers by index.\n",
    "# Passing \"inplace=False\" will make a copy of the city_data DataFrame, which we call \"clean_city_data\".\n",
    "df.head()"
   ]
  },
  {
   "cell_type": "code",
   "execution_count": 101,
   "metadata": {},
   "outputs": [],
   "source": [
    "# Extract relevant fields from the data frame\n",
    "\n",
    "\n",
    "# Export the City_Data into a csv\n",
    "df.to_csv(\"cities_data.csv\", index=False,header=True)"
   ]
  },
  {
   "cell_type": "markdown",
   "metadata": {},
   "source": [
    "## Plotting the Data\n",
    "* Use proper labeling of the plots using plot titles (including date of analysis) and axes labels.\n",
    "* Save the plotted figures as .pngs."
   ]
  },
  {
   "cell_type": "markdown",
   "metadata": {},
   "source": [
    "## Latitude vs. Temperature Plot"
   ]
  },
  {
   "cell_type": "code",
   "execution_count": 61,
   "metadata": {
    "scrolled": true
   },
   "outputs": [
    {
     "data": {
      "image/png": "[encoded data removed]",
      "text/plain": [
       "<Figure size 432x288 with 1 Axes>"
      ]
     },
     "metadata": {
      "needs_background": "light"
     },
     "output_type": "display_data"
    }
   ],
   "source": [
    "plt.scatter(df[\"lat\"], \n",
    "            df[\"max_temp\"],\n",
    "            edgecolor=\"black\", marker=\"o\", label=\"Cities\")\n",
    "plt.title(\"City Latitude vs. Max Temperature (10/29/20)\")\n",
    "plt.ylabel(\"Max Temperature (Kelvin)\")\n",
    "plt.xlabel(\"Latitude\")\n",
    "plt.grid(True)\n",
    "plt.savefig(\"lat_vs_max_temp.png\")\n",
    "plt.show()"
   ]
  },
  {
   "cell_type": "markdown",
   "metadata": {},
   "source": [
    "This curved trend follows from how the earth is both curved and tilted along its axis.  The slight tilt in axis correlates to how the top of what would be the best curve fit isn't perfectly centered on the equator."
   ]
  },
  {
   "cell_type": "markdown",
   "metadata": {},
   "source": [
    "## Latitude vs. Humidity Plot"
   ]
  },
  {
   "cell_type": "code",
   "execution_count": 63,
   "metadata": {},
   "outputs": [
    {
     "data": {
      "image/png": "[encoded data removed]",
      "text/plain": [
       "<Figure size 432x288 with 1 Axes>"
      ]
     },
     "metadata": {
      "needs_background": "light"
     },
     "output_type": "display_data"
    }
   ],
   "source": [
    "plt.scatter(df[\"lat\"], \n",
    "            df[\"humidity\"],\n",
    "            edgecolor=\"black\", marker=\"o\", label=\"Cities\")\n",
    "plt.title(\"City Latitude vs. Humidity (10/29/20)\")\n",
    "plt.ylabel(\"Humidity (%)\")\n",
    "plt.xlabel(\"Latitude\")\n",
    "plt.grid(True)\n",
    "plt.savefig(\"lat_vs_humidity.png\")\n",
    "plt.show()"
   ]
  },
  {
   "cell_type": "markdown",
   "metadata": {},
   "source": [
    "## Latitude vs. Cloudiness Plot"
   ]
  },
  {
   "cell_type": "code",
   "execution_count": 65,
   "metadata": {},
   "outputs": [
    {
     "data": {
      "image/png": "[encoded data removed]",
      "text/plain": [
       "<Figure size 432x288 with 1 Axes>"
      ]
     },
     "metadata": {
      "needs_background": "light"
     },
     "output_type": "display_data"
    }
   ],
   "source": [
    "plt.scatter(df[\"lat\"], \n",
    "            df[\"cloudiness\"],\n",
    "            edgecolor=\"black\", marker=\"o\", label=\"Cities\")\n",
    "plt.title(\"City Latitude vs. Cloudiness (10/29/20)\")\n",
    "plt.ylabel(\"Cloudiness (%)\")\n",
    "plt.xlabel(\"Latitude\")\n",
    "plt.grid(True)\n",
    "plt.savefig(\"lat_vs_cloudiness.png\")\n",
    "plt.show()"
   ]
  },
  {
   "cell_type": "markdown",
   "metadata": {},
   "source": [
    "No noticeable trends here, just that there's more cities that see either 100% or 0% cloudiness than in between."
   ]
  },
  {
   "cell_type": "markdown",
   "metadata": {},
   "source": [
    "## Latitude vs. Wind Speed Plot"
   ]
  },
  {
   "cell_type": "code",
   "execution_count": 66,
   "metadata": {},
   "outputs": [
    {
     "data": {
      "image/png": "[encoded data removed]",
      "text/plain": [
       "<Figure size 432x288 with 1 Axes>"
      ]
     },
     "metadata": {
      "needs_background": "light"
     },
     "output_type": "display_data"
    }
   ],
   "source": [
    "plt.scatter(df[\"lat\"], \n",
    "            df[\"wind_spd\"],\n",
    "            edgecolor=\"black\", marker=\"o\", label=\"Cities\")\n",
    "plt.title(\"City Latitude vs. Wind Speed (10/29/20)\")\n",
    "plt.ylabel(\"Wind Speed (mph)\")\n",
    "plt.xlabel(\"Latitude\")\n",
    "plt.grid(True)\n",
    "plt.savefig(\"lat_vs_wind_spd.png\")\n",
    "plt.show()"
   ]
  },
  {
   "cell_type": "markdown",
   "metadata": {},
   "source": [
    "Wind speeds appear to be more varied along the extremes of the north and south poles."
   ]
  },
  {
   "cell_type": "markdown",
   "metadata": {},
   "source": [
    "## Linear Regression"
   ]
  },
  {
   "cell_type": "code",
   "execution_count": 85,
   "metadata": {},
   "outputs": [],
   "source": [
    "# OPTIONAL: Create a function to create Linear Regression plots\n",
    "def linear_reg_plot(x_axis,y_axis,x_title,y_title):\n",
    "    (slope, intercept, rvalue, pvalue, stderr) = linregress(x_axis, y_axis)\n",
    "    line_eq = \"y = \" + str(round(slope,2)) + \"x + \" + str(round(intercept,2))\n",
    "    \n",
    "    plt.scatter(x_axis,y_axis)\n",
    "    plt.plot(x_axis,(x_axis*slope + intercept),\"r-\")\n",
    "    plt.xlabel(x_title)\n",
    "    plt.ylabel(y_title)\n",
    "    print(line_eq)\n",
    "    print(f\"The r-squared is: {rvalue**2}\")\n",
    "    plt.show()"
   ]
  },
  {
   "cell_type": "code",
   "execution_count": 86,
   "metadata": {},
   "outputs": [],
   "source": [
    "# Create Northern and Southern Hemisphere DataFrames\n",
    "df_north = df.loc[df[\"lat\"]>=0,:]\n",
    "df_south = df.loc[df[\"lat\"]<=0,:]"
   ]
  },
  {
   "cell_type": "markdown",
   "metadata": {},
   "source": [
    "####  Northern Hemisphere - Max Temp vs. Latitude Linear Regression"
   ]
  },
  {
   "cell_type": "code",
   "execution_count": 91,
   "metadata": {},
   "outputs": [
    {
     "name": "stdout",
     "output_type": "stream",
     "text": [
      "y = -0.55x + 305.85\n",
      "The r-squared is: 0.7674630318215003\n"
     ]
    },
    {
     "data": {
      "image/png": "[encoded data removed]",
      "text/plain": [
       "<Figure size 432x288 with 1 Axes>"
      ]
     },
     "metadata": {
      "needs_background": "light"
     },
     "output_type": "display_data"
    }
   ],
   "source": [
    "linear_reg_plot(df_north[\"lat\"],df_north[\"max_temp\"],\"Latitude\",\"Max Temp (Kelvin)\")"
   ]
  },
  {
   "cell_type": "markdown",
   "metadata": {},
   "source": [
    "####  Southern Hemisphere - Max Temp vs. Latitude Linear Regression"
   ]
  },
  {
   "cell_type": "code",
   "execution_count": 92,
   "metadata": {},
   "outputs": [
    {
     "name": "stdout",
     "output_type": "stream",
     "text": [
      "y = 0.34x + 301.4\n",
      "The r-squared is: 0.38933769768582416\n"
     ]
    },
    {
     "data": {
      "image/png": "[encoded data removed]",
      "text/plain": [
       "<Figure size 432x288 with 1 Axes>"
      ]
     },
     "metadata": {
      "needs_background": "light"
     },
     "output_type": "display_data"
    }
   ],
   "source": [
    "linear_reg_plot(df_south[\"lat\"],df_south[\"max_temp\"],\"Latitude\",\"Max Temp (Kelvin)\")"
   ]
  },
  {
   "cell_type": "markdown",
   "metadata": {},
   "source": [
    "####  Northern Hemisphere - Humidity (%) vs. Latitude Linear Regression"
   ]
  },
  {
   "cell_type": "code",
   "execution_count": 93,
   "metadata": {},
   "outputs": [
    {
     "name": "stdout",
     "output_type": "stream",
     "text": [
      "y = 0.39x + 59.02\n",
      "The r-squared is: 0.1325134322175463\n"
     ]
    },
    {
     "data": {
      "image/png": "[encoded data removed]",
      "text/plain": [
       "<Figure size 432x288 with 1 Axes>"
      ]
     },
     "metadata": {
      "needs_background": "light"
     },
     "output_type": "display_data"
    }
   ],
   "source": [
    "linear_reg_plot(df_north[\"lat\"],df_north[\"humidity\"],\"Latitude\",\"Humidity (%)\")"
   ]
  },
  {
   "cell_type": "markdown",
   "metadata": {},
   "source": [
    "####  Southern Hemisphere - Humidity (%) vs. Latitude Linear Regression"
   ]
  },
  {
   "cell_type": "code",
   "execution_count": 94,
   "metadata": {},
   "outputs": [
    {
     "name": "stdout",
     "output_type": "stream",
     "text": [
      "y = 0.24x + 75.37\n",
      "The r-squared is: 0.02384478030144728\n"
     ]
    },
    {
     "data": {
      "image/png": "[encoded data removed]",
      "text/plain": [
       "<Figure size 432x288 with 1 Axes>"
      ]
     },
     "metadata": {
      "needs_background": "light"
     },
     "output_type": "display_data"
    }
   ],
   "source": [
    "linear_reg_plot(df_south[\"lat\"],df_south[\"humidity\"],\"Latitude\",\"Humidity (%)\")"
   ]
  },
  {
   "cell_type": "markdown",
   "metadata": {},
   "source": [
    "####  Northern Hemisphere - Cloudiness (%) vs. Latitude Linear Regression"
   ]
  },
  {
   "cell_type": "code",
   "execution_count": 95,
   "metadata": {},
   "outputs": [
    {
     "name": "stdout",
     "output_type": "stream",
     "text": [
      "y = 0.41x + 35.38\n",
      "The r-squared is: 0.04619744987265113\n"
     ]
    },
    {
     "data": {
      "image/png": "[encoded data removed]",
      "text/plain": [
       "<Figure size 432x288 with 1 Axes>"
      ]
     },
     "metadata": {
      "needs_background": "light"
     },
     "output_type": "display_data"
    }
   ],
   "source": [
    "linear_reg_plot(df_north[\"lat\"],df_north[\"cloudiness\"],\"Latitude\",\"cloudiness (%)\")"
   ]
  },
  {
   "cell_type": "markdown",
   "metadata": {},
   "source": [
    "####  Southern Hemisphere - Cloudiness (%) vs. Latitude Linear Regression"
   ]
  },
  {
   "cell_type": "code",
   "execution_count": 96,
   "metadata": {},
   "outputs": [
    {
     "name": "stdout",
     "output_type": "stream",
     "text": [
      "y = 0.66x + 65.07\n",
      "The r-squared is: 0.04646012402093679\n"
     ]
    },
    {
     "data": {
      "image/png": "[encoded data removed]",
      "text/plain": [
       "<Figure size 432x288 with 1 Axes>"
      ]
     },
     "metadata": {
      "needs_background": "light"
     },
     "output_type": "display_data"
    }
   ],
   "source": [
    "linear_reg_plot(df_south[\"lat\"],df_south[\"cloudiness\"],\"Latitude\",\"Cloudiness (%)\")"
   ]
  },
  {
   "cell_type": "markdown",
   "metadata": {},
   "source": [
    "####  Northern Hemisphere - Wind Speed (mph) vs. Latitude Linear Regression"
   ]
  },
  {
   "cell_type": "code",
   "execution_count": 97,
   "metadata": {},
   "outputs": [
    {
     "name": "stdout",
     "output_type": "stream",
     "text": [
      "y = 0.02x + 2.48\n",
      "The r-squared is: 0.025936488608194228\n"
     ]
    },
    {
     "data": {
      "image/png": "[encoded data removed]",
      "text/plain": [
       "<Figure size 432x288 with 1 Axes>"
      ]
     },
     "metadata": {
      "needs_background": "light"
     },
     "output_type": "display_data"
    }
   ],
   "source": [
    "linear_reg_plot(df_north[\"lat\"],df_north[\"wind_spd\"],\"Latitude\",\"Wind Speed (mph)\")"
   ]
  },
  {
   "cell_type": "markdown",
   "metadata": {},
   "source": [
    "####  Southern Hemisphere - Wind Speed (mph) vs. Latitude Linear Regression"
   ]
  },
  {
   "cell_type": "code",
   "execution_count": 98,
   "metadata": {},
   "outputs": [
    {
     "name": "stdout",
     "output_type": "stream",
     "text": [
      "y = -0.03x + 3.09\n",
      "The r-squared is: 0.0320693865220632\n"
     ]
    },
    {
     "data": {
      "image/png": "[encoded data removed]",
      "text/plain": [
       "<Figure size 432x288 with 1 Axes>"
      ]
     },
     "metadata": {
      "needs_background": "light"
     },
     "output_type": "display_data"
    }
   ],
   "source": [
    "linear_reg_plot(df_south[\"lat\"],df_south[\"wind_spd\"],\"Latitude\",\"Wind Speed (mph)\")"
   ]
  },
  {
   "cell_type": "code",
   "execution_count": null,
   "metadata": {},
   "outputs": [],
   "source": []
  }
 ],
 "metadata": {
  "anaconda-cloud": {},
  "kernel_info": {
   "name": "python3"
  },
  "kernelspec": {
   "display_name": "Python 3",
   "language": "python",
   "name": "python3"
  },
  "language_info": {
   "codemirror_mode": {
    "name": "ipython",
    "version": 3
   },
   "file_extension": ".py",
   "mimetype": "text/x-python",
   "name": "python",
   "nbconvert_exporter": "python",
   "pygments_lexer": "ipython3",
   "version": "3.7.6"
  },
  "latex_envs": {
   "LaTeX_envs_menu_present": true,
   "autoclose": false,
   "autocomplete": true,
   "bibliofile": "biblio.bib",
   "cite_by": "apalike",
   "current_citInitial": 1,
   "eqLabelWithNumbers": true,
   "eqNumInitial": 1,
   "hotkeys": {
    "equation": "Ctrl-E",
    "itemize": "Ctrl-I"
   },
   "labels_anchors": false,
   "latex_user_defs": false,
   "report_style_numbering": false,
   "user_envs_cfg": false
  },
  "nteract": {
   "version": "0.12.3"
  }
 },
 "nbformat": 4,
 "nbformat_minor": 2
}
